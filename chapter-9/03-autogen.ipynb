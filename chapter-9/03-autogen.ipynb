{
    "cells": [
        {
            "cell_type": "markdown",
            "metadata": {
                "language": "markdown"
            },
            "source": [
                "# AutoGen for AI Agents\n",
                "\n",
                "This notebook demonstrates how to use AutoGen to create and deploy AI agents with Azure AI services. AutoGen is an open-source framework that enables the creation of conversational AI applications using large language models (LLMs).\n",
                "\n",
                "In this notebook, we'll:\n",
                "1. Set up the AutoGen environment and dependencies\n",
                "2. Configure Azure AI services integration\n",
                "3. Create an AI agent with specific capabilities\n",
                "4. Exchange messages with the agent\n",
                "5. Process and display conversation results\n",
                "\n",
                "AutoGen provides tools for building, customizing and deploying LLM applications with multiple agents that can converse with each other to solve tasks."
            ]
        },
        {
            "cell_type": "code",
            "metadata": {
                "id": "25b71c3f",
                "language": "python"
            },
            "source": [
                "!pip list"
            ]
        },
        {
            "cell_type": "markdown",
            "metadata": {
                "language": "markdown"
            },
            "source": [
                "## Importing Required Libraries\n",
                "\n",
                "We'll start by importing the necessary libraries to work with AutoGen and Azure AI services:\n",
                "\n",
                "- `os`: For accessing environment variables\n",
                "- `autogen_agentchat.agents`: Contains agent definitions including `AssistantAgent`\n",
                "- `autogen_core.models`: For message handling and user interactions\n",
                "- `autogen_ext.models.azure`: Azure AI integration for chat completion services\n",
                "- `azure.core.credentials`: For secure authentication with Azure services\n",
                "- `autogen_core`: Core AutoGen functionality including cancellation support\n",
                "- `autogen_agentchat.messages`: Message types for agent communication\n",
                "- `autogen_agentchat.ui`: UI components for displaying conversations\n",
                "\n",
                "These libraries provide the foundation for creating agents, managing conversations, and integrating with Azure's AI services in a secure and scalable way."
            ]
        },
        {
            "cell_type": "code",
            "metadata": {
                "id": "024e7428",
                "language": "python"
            },
            "source": [
                "# Import necessary libraries for AutoGen agent-based chat applications",
                "# This includes Azure AI services integration for chat completions, agent definitions,",
                "# message handling, and UI components for building conversational AI applications",
                "import os",
                "",
                "from autogen_agentchat.agents import AssistantAgent",
                "from autogen_core.models import UserMessage",
                "from autogen_ext.models.azure import AzureAIChatCompletionClient",
                "from azure.core.credentials import AzureKeyCredential",
                "from autogen_core import CancellationToken",
                "",
                "from autogen_agentchat.messages import TextMessage",
                "from autogen_agentchat.ui import Console",
                ""
            ]
        },
        {
            "cell_type": "markdown",
            "metadata": {
                "language": "markdown"
            },
            "source": [
                "## Setting Up Azure AI Integration\n",
                "\n",
                "In this section, we configure AutoGen to work with Azure AI services. Following Azure best practices for security:\n",
                "\n",
                "1. We load environment variables from a `.env` file using `dotenv`\n",
                "2. We authenticate with Azure AI services using a GitHub token (for demonstration purposes)\n",
                "3. We create an `AzureAIChatCompletionClient` configured for the `gpt-4o-mini` model\n",
                "\n",
                "The client is configured with the model's capabilities, including:\n",
                "- JSON output support\n",
                "- Function calling\n",
                "- Vision capabilities\n",
                "\n",
                "In a production environment, you should:\n",
                "- Use Azure Managed Identities where possible instead of API keys\n",
                "- Store sensitive credentials in Azure Key Vault\n",
                "- Implement proper credential rotation and least privilege access\n",
                "- Consider implementing retry logic for transient failures\n",
                "\n",
                "To verify our configuration, we'll send a simple test question to the AI service."
            ]
        },
        {
            "cell_type": "code",
            "metadata": {
                "id": "b60ad641",
                "language": "python"
            },
            "source": [
                "# This cell configures the Azure AI Chat Completion client",
                "# It loads environment variables, prints a GitHub token,",
                "# and creates a client instance to interact with the Azure OpenAI service",
                "# Finally it sends a test question to confirm the connection works",
                "from dotenv import load_dotenv",
                "",
                "# Load environment variables from .env file",
                "load_dotenv(override=True)",
                "",
                "print(os.environ[\"GITHUB_TOKEN\"])",
                "",
                "client = AzureAIChatCompletionClient(",
                "    model=\"gpt-4o-mini\",",
                "    endpoint=\"https://models.inference.ai.azure.com\",",
                "    # To authenticate with the model you will need to generate a personal access token (PAT) in your GitHub settings.",
                "    # Create your PAT token by following instructions here: https://docs.github.com/en/authentication/keeping-your-account-and-data-secure/managing-your-personal-access-tokens",
                "    credential=AzureKeyCredential(os.getenv(\"GITHUB_TOKEN\")),",
                "    model_info={",
                "        \"json_output\": True,",
                "        \"function_calling\": True,",
                "        \"vision\": True,",
                "        \"family\": \"unknown\",",
                "    },",
                ")",
                "",
                "result = await client.create([UserMessage(content=\"What is the capital of South Korea?\", source=\"user\")])",
                "print(result)"
            ]
        },
        {
            "cell_type": "markdown",
            "metadata": {
                "language": "markdown"
            },
            "source": [
                "## Creating an AI Agent with AutoGen\n",
                "\n",
                "Now we'll create an AI agent using AutoGen's `AssistantAgent` class. This approach offers several advantages:\n",
                "\n",
                "1. **Abstraction**: AutoGen handles the complexity of agent interactions\n",
                "2. **Integration**: Seamless connection with Azure AI services\n",
                "3. **Extensibility**: Support for tools and multi-agent systems\n",
                "\n",
                "Our agent is defined with:\n",
                "- **Name**: A unique identifier (\"assistant\")\n",
                "- **Model Client**: Our configured Azure AI Chat Completion client\n",
                "- **Tools**: An empty array (no specialized tools for this example)\n",
                "- **System Message**: Instructions that define the agent's role and behavior\n",
                "\n",
                "The system message \"You are a travel agent that plans great vacations\" establishes the domain expertise of our agent. In production scenarios, you would typically provide more detailed instructions to control the agent's behavior, knowledge boundaries, and response patterns.\n",
                "\n",
                "AutoGen's agent architecture allows you to add tools, skills, and advanced capabilities as your application grows in complexity."
            ]
        },
        {
            "cell_type": "code",
            "metadata": {
                "id": "8477eb26",
                "language": "python"
            },
            "source": [
                "# Create an AssistantAgent for travel planning",
                "# This agent uses the Azure AI Chat Completion client we configured earlier",
                "# It will respond to user messages about travel planning with helpful suggestions",
                "agent = AssistantAgent(",
                "    name=\"assistant\",",
                "    model_client=client,",
                "    tools=[],",
                "    system_message=\"You are a travel agent that plans great vacations\",",
                ")"
            ]
        },
        {
            "cell_type": "markdown",
            "metadata": {
                "language": "markdown"
            },
            "source": [
                "## Interacting with the Agent\n",
                "\n",
                "With our agent created, we can now interact with it by sending messages and processing responses. AutoGen provides an elegant asynchronous API for handling these interactions.\n",
                "\n",
                "In this example, we'll:\n",
                "1. Define an asynchronous function to handle the agent interaction\n",
                "2. Create a user message asking for vacation planning advice\n",
                "3. Send this message to our agent using the `on_messages` method\n",
                "4. Process and display the agent's response\n",
                "\n",
                "The `TextMessage` class represents a simple text-based message with content and source attributes. AutoGen supports more complex message types, including those with images or structured data.\n",
                "\n",
                "The `CancellationToken` provides a way to cancel long-running operations if needed, which is important for responsiveness and resource management in production applications.\n",
                "\n",
                "When the agent responds, we'll see two components:\n",
                "- `inner_messages`: The detailed internal representation of the message\n",
                "- `chat_message`: The formatted message ready for display\n",
                "\n",
                "This separation allows for rich processing and presentation of agent responses."
            ]
        },
        {
            "cell_type": "code",
            "metadata": {
                "id": "cd6cb912",
                "language": "python"
            },
            "source": [
                "# This cell defines and runs an async function to demonstrate the travel agent assistant",
                "# It sends a message asking for vacation planning advice for Seoul and displays the response",
                "async def assistant_run() -> None:",
                "    response = await agent.on_messages(",
                "        [TextMessage(content=\"Could you help me plan a sunny vacation in Seoul, South Korea?\", source=\"user\")],",
                "        cancellation_token=CancellationToken(),",
                "    )",
                "    print(response.inner_messages)",
                "    print(response.chat_message)",
                "",
                "",
                "# Use asyncio.run(assistant_run()) when running in a script.",
                "await assistant_run()"
            ]
        },
        {
            "cell_type": "markdown",
            "metadata": {
                "language": "markdown"
            },
            "source": [
                "## Summary and Next Steps\n",
                "\n",
                "In this notebook, we've demonstrated how to use AutoGen with Azure AI services to create a conversational AI agent. We've covered:\n",
                "\n",
                "1. **Setting up the environment** with necessary libraries and dependencies\n",
                "2. **Configuring Azure AI integration** using secure authentication practices\n",
                "3. **Creating an AI agent** with specific capabilities and instructions\n",
                "4. **Exchanging messages** with the agent and processing responses\n",
                "\n",
                "AutoGen provides a powerful framework for building conversational AI applications with Azure AI services. The integration with Azure follows security best practices and enables scalable, enterprise-grade AI solutions.\n",
                "\n",
                "### Extending this Solution\n",
                "\n",
                "You can enhance this example by:\n",
                "- **Adding specialized tools** to the agent for performing specific tasks\n",
                "- **Creating multi-agent systems** where agents collaborate to solve complex problems\n",
                "- **Implementing persistent conversations** with storage and retrieval capabilities\n",
                "- **Adding user authentication** and personalization features\n",
                "- **Integrating with other Azure services** like Azure Functions, Logic Apps, or Cognitive Services\n",
                "\n",
                "### Security Considerations\n",
                "\n",
                "When deploying to production, consider:\n",
                "- Using Azure Managed Identities instead of API keys where possible\n",
                "- Storing sensitive credentials in Azure Key Vault\n",
                "- Implementing proper RBAC (Role-Based Access Control) for your Azure AI resources\n",
                "- Setting up monitoring and logging for agent activities\n",
                "- Implementing content filtering and safety measures\n",
                "\n",
                "For more information, visit the [AutoGen documentation](https://microsoft.github.io/autogen/) and [Azure AI services documentation](https://learn.microsoft.com/en-us/azure/ai-services/)."
            ]
        }
    ]
}