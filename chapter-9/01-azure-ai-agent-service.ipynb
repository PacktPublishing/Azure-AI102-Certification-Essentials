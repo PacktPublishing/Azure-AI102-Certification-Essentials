{
    "cells": [
        {
            "cell_type": "markdown",
            "metadata": {
                "language": "markdown"
            },
            "source": [
                "# Azure AI Agent Service\n",
                "\n",
                "This notebook demonstrates how to use the Azure AI Agent Service to create and interact with AI agents. Azure AI Agent Service is a managed service that helps you deploy, orchestrate, and manage AI agents that can perform tasks and engage in conversations.\n",
                "\n",
                "In this notebook, we'll:\n",
                "1. Set up the Azure AI Project Client\n",
                "2. Create an AI agent with specific capabilities\n",
                "3. Establish a conversation thread\n",
                "4. Exchange messages with the agent\n",
                "5. Process and retrieve conversation results"
            ]
        },
        {
            "cell_type": "code",
            "execution_count": null,
            "metadata": {
                "id": "dc532981",
                "language": "python"
            },
            "outputs": [],
            "source": [
                "!pip list"
            ]
        },
        {
            "cell_type": "markdown",
            "metadata": {
                "language": "markdown"
            },
            "source": [
                "## Importing Required Libraries\n",
                "\n",
                "We'll start by importing the necessary libraries to work with Azure AI Agent Service:\n",
                "\n",
                "- `os`: For accessing environment variables\n",
                "- `azure.ai.projects.AIProjectClient`: The main client for interacting with Azure AI Project services\n",
                "- `azure.identity.DefaultAzureCredential`: For secure, managed identity-based authentication with Azure services\n",
                "- `typing.Any`: For type annotations\n",
                "- `pathlib.Path`: For handling file paths\n",
                "\n",
                "The Azure AI Project Client allows us to create and manage agents, establish conversation threads, and handle message exchanges using Azure's secure authentication mechanisms."
            ]
        },
        {
            "cell_type": "code",
            "execution_count": null,
            "metadata": {
                "id": "226e78d9",
                "language": "python"
            },
            "outputs": [],
            "source": [
                "# Import necessary libraries for Azure AI Project Client integration\n",
                "import os\n",
                "from azure.ai.projects import AIProjectClient\n",
                "from azure.identity import DefaultAzureCredential\n",
                "from typing import Any\n",
                "from pathlib import Path"
            ]
        },
        {
            "cell_type": "markdown",
            "metadata": {
                "language": "markdown"
            },
            "source": [
                "## Setting Up Authentication and Configuration\n",
                "\n",
                "Following Azure best practices for security, we'll use environment variables to store sensitive connection information rather than hardcoding credentials. This approach:\n",
                "\n",
                "1. Uses `dotenv` to load variables from a `.env` file\n",
                "2. Retrieves the connection string securely\n",
                "3. Implements proper error handling if the connection string is missing\n",
                "4. Uses `DefaultAzureCredential` for authentication, which:\n",
                "   - Supports multiple authentication methods (managed identity, environment variables, etc.)\n",
                "   - Follows the principle of least privilege\n",
                "   - Enables seamless authentication across different environments\n",
                "\n",
                "The connection string contains endpoint and authentication details needed to connect to your Azure AI Agent Service resource."
            ]
        },
        {
            "cell_type": "code",
            "execution_count": null,
            "metadata": {
                "id": "5520f5e3",
                "language": "python"
            },
            "outputs": [],
            "source": [
                "# Load environment variables and configure the project client\n",
                "from dotenv import load_dotenv\n",
                "\n",
                "# Load environment variables from .env file\n",
                "load_dotenv()\n",
                "\n",
                "# Set the environment variable\n",
                "project_connection_string = os.getenv(\"AZURE_AI_AGENT_PROJECT_CONNECTION_STRING\")\n",
                "\n",
                "if project_connection_string is None:\n",
                "    raise KeyError(\"AZURE_AI_AGENT_PROJECT_CONNECTION_STRING not found in .env file\")\n",
                "\n",
                "project_client = AIProjectClient.from_connection_string(\n",
                "    credential=DefaultAzureCredential(), conn_str=project_connection_string\n",
                ")\n",
                "print(project_connection_string)"
            ]
        },
        {
            "cell_type": "markdown",
            "metadata": {
                "language": "markdown"
            },
            "source": [
                "## Creating an AI Agent\n",
                "\n",
                "Now we'll create an AI agent with specific capabilities. In Azure AI Agent Service, an agent is defined by:\n",
                "\n",
                "- **Model**: The underlying language model that powers the agent. We're using `gpt-4o-mini`, which offers a good balance of performance and cost-efficiency for many scenarios.\n",
                "- **Name**: A unique identifier for the agent instance.\n",
                "- **Instructions**: The system message that defines the agent's role, behavior, and capabilities.\n",
                "\n",
                "The instructions \"You are a travel agent that plans great vacations\" establish the domain expertise of our agent. In production scenarios, you would typically provide more detailed instructions to precisely control the agent's behavior, knowledge boundaries, and response patterns.\n",
                "\n",
                "When creating agents in production environments, consider:\n",
                "- Including guardrails to prevent harmful outputs\n",
                "- Providing detailed examples of expected behavior\n",
                "- Implementing monitoring and logging for agent actions\n",
                "- Setting appropriate rate limits and usage controls"
            ]
        },
        {
            "cell_type": "code",
            "execution_count": null,
            "metadata": {
                "id": "a7724918",
                "language": "python"
            },
            "outputs": [],
            "source": [
                "# Create an agent with specific model and instructions\n",
                "agent = project_client.agents.create_agent(\n",
                "        model=\"gpt-4o-mini\",\n",
                "        name=\"Agent820\",\n",
                "        instructions=\"You are a travel agent that plans great vacations\",\n",
                "     \n",
                "    )\n",
                "print(f\"Created agent, agent ID: {agent.id}\")\n"
            ]
        },
        {
            "cell_type": "markdown",
            "metadata": {
                "language": "markdown"
            },
            "source": [
                "## Creating a Conversation Thread\n",
                "\n",
                "In Azure AI Agent Service, a \"thread\" represents a conversation session between users and agents. Threads provide:\n",
                "\n",
                "1. **State Management**: Maintaining context across multiple interactions\n",
                "2. **Message History**: Storing the complete conversation for context and reference\n",
                "3. **Persistence**: Allowing conversations to continue over time\n",
                "\n",
                "Each thread has a unique identifier that we'll use for adding messages and instructing the agent to process them. The thread architecture enables both synchronous and asynchronous conversation patterns, making it flexible for different application scenarios.\n",
                "\n",
                "In production applications, you might implement:\n",
                "- Thread lifecycle management (archiving, deletion policies)\n",
                "- Access controls for thread data\n",
                "- Integration with user authentication systems"
            ]
        },
        {
            "cell_type": "code",
            "execution_count": null,
            "metadata": {
                "id": "fd170747",
                "language": "python"
            },
            "outputs": [],
            "source": [
                "# Create a thread for conversation\n",
                "thread = project_client.agents.create_thread()\n",
                "print(f\"Created thread, thread ID: {thread.id}\")"
            ]
        },
        {
            "cell_type": "markdown",
            "metadata": {
                "language": "markdown"
            },
            "source": [
                "## Adding User Messages\n",
                "\n",
                "With both our agent and thread created, we can now add user messages to start the conversation. Messages in Azure AI Agent Service have several key components:\n",
                "\n",
                "- **Thread ID**: Links the message to a specific conversation thread\n",
                "- **Role**: Identifies whether the message is from the \"user\" or \"assistant\"\n",
                "- **Content**: The actual text or other content of the message\n",
                "\n",
                "The message we're adding represents the user's initial query about planning a vacation in Seoul, South Korea. This message is stored in the thread but isn't processed immediately - this separation of message creation and processing gives you fine-grained control over the conversation flow.\n",
                "\n",
                "Azure AI Agent Service supports multiple content types beyond just text (including images in compatible models), though this example focuses on text-based conversations."
            ]
        },
        {
            "cell_type": "code",
            "execution_count": null,
            "metadata": {
                "id": "b7b44258",
                "language": "python"
            },
            "outputs": [],
            "source": [
                "# Add a user message to the thread\n",
                "message = project_client.agents.create_message(\n",
                "        thread_id=thread.id,\n",
                "        role=\"user\",\n",
                "        content=\"Could you help me plan a sunny vacation in Seoul, South Korea?\",\n",
                "    )\n",
                "print(f\"Created message, ID: {message.id}\")"
            ]
        },
        {
            "cell_type": "markdown",
            "metadata": {
                "language": "markdown"
            },
            "source": [
                "## Processing the Conversation\n",
                "\n",
                "Now we'll ask the agent to process the conversation thread and generate a response. When we call `create_and_process_run`:\n",
                "\n",
                "1. The service creates a \"run\" object that represents an execution instance\n",
                "2. The agent receives the conversation context from the thread\n",
                "3. It processes the messages and generates an appropriate response based on its instructions\n",
                "4. The response is added to the thread\n",
                "\n",
                "A \"run\" in Azure AI Agent Service has different states like \"queued\", \"in_progress\", \"completed\", or \"failed\". The method waits for the run to reach a terminal state and provides status information.\n",
                "\n",
                "This implementation includes error handling to detect and report failed runs, which is critical for production applications. In more complex scenarios, you might implement retry mechanisms for transient failures or integrate with Azure Monitor for comprehensive logging and diagnostics."
            ]
        },
        {
            "cell_type": "code",
            "execution_count": null,
            "metadata": {
                "id": "d6d4226c",
                "language": "python"
            },
            "outputs": [],
            "source": [
                "# Process the thread with the agent\n",
                "run = project_client.agents.create_and_process_run(thread_id=thread.id, assistant_id=agent.id)\n",
                "    # [END create_and_process_run]\n",
                "print(f\"Run finished with status: {run.status}\")\n",
                "\n",
                "if run.status == \"failed\":\n",
                "        print(f\"Run failed: {run.last_error}\")"
            ]
        },
        {
            "cell_type": "markdown",
            "metadata": {
                "language": "markdown"
            },
            "source": [
                "## Retrieving and Displaying Conversation Messages\n",
                "\n",
                "The final step is to retrieve all messages from the conversation thread to see the complete exchange. This allows us to view both the original user query and the agent's detailed response.\n",
                "\n",
                "For each message, we display:\n",
                "- **Message ID**: The unique identifier for the message\n",
                "- **Role**: Whether the message is from the \"user\" or \"assistant\"\n",
                "- **Content**: The actual text content of the message\n",
                "\n",
                "Azure AI Agent Service supports a rich content structure that can include different content types (text, images, etc.). In this example, we're checking the content type and displaying text content specifically.\n",
                "\n",
                "In production applications, you might:\n",
                "- Implement pagination for long conversation histories\n",
                "- Filter messages based on criteria\n",
                "- Transform message content for different interfaces\n",
                "- Implement message retention policies"
            ]
        },
        {
            "cell_type": "code",
            "execution_count": null,
            "metadata": {
                "id": "fe66bd58",
                "language": "python"
            },
            "outputs": [],
            "source": [
                "# List all messages in the thread\n",
                "messages = project_client.agents.list_messages(thread_id=thread.id)\n",
                "\n",
                "for msg in messages.data:\n",
                "    print(f\"Message ID: {msg.id}\")\n",
                "    print(f\"Role: {msg.role}\")\n",
                "    print(\"Content:\")\n",
                "    for content in msg.content:\n",
                "        if content['type'] == 'text':\n",
                "            print(content['text']['value'])\n",
                "    print(\"-\" * 50)"
            ]
        },
        {
            "cell_type": "markdown",
            "metadata": {
                "language": "markdown"
            },
            "source": [
                "## Summary and Next Steps\n",
                "\n",
                "In this notebook, we've demonstrated the core capabilities of Azure AI Agent Service:\n",
                "\n",
                "1. **Setting up authentication** using Azure best practices (DefaultAzureCredential and environment variables)\n",
                "2. **Creating an AI agent** with specific capabilities and instructions\n",
                "3. **Establishing a conversation thread** to maintain context\n",
                "4. **Adding user messages** to the conversation\n",
                "5. **Processing the conversation** with the agent\n",
                "6. **Retrieving and displaying** the conversation history\n",
                "\n",
                "Azure AI Agent Service provides a managed platform for building intelligent conversational experiences without managing complex infrastructure. The service handles authentication, conversation state management, and model integration following Azure's security and compliance standards.\n",
                "\n",
                "### Extending this Solution\n",
                "\n",
                "You can enhance this example by:\n",
                "- **Adding tools and functions** that the agent can call to perform actions\n",
                "- **Implementing more complex conversation flows** with multiple messages\n",
                "- **Creating specialized agents** for different domains and use cases\n",
                "- **Building user interfaces** around this conversation API\n",
                "- **Integrating with other Azure services** like Azure Functions or Logic Apps\n",
                "\n",
                "### Security Considerations\n",
                "\n",
                "When deploying to production, consider:\n",
                "- Using Azure Key Vault to store connection strings and credentials\n",
                "- Implementing proper RBAC (Role-Based Access Control) for your Azure AI resources\n",
                "- Setting up monitoring and logging for agent activities\n",
                "- Implementing content filtering and safety measures\n",
                "\n",
                "For more information, visit the [Azure AI Agent Service documentation](https://learn.microsoft.com/en-us/azure/ai-services/agents/overview)."
            ]
        }
    ],
    "metadata": {
        "language_info": {
            "name": "python"
        }
    },
    "nbformat": 4,
    "nbformat_minor": 5
}
